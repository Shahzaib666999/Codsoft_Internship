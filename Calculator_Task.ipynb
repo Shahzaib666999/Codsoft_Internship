{
 "cells": [
  {
   "cell_type": "code",
   "execution_count": 6,
   "id": "1ce04865",
   "metadata": {},
   "outputs": [],
   "source": [
    "#First we need to import liabraries like tkinter for GUI interference.\n",
    "\n",
    "import tkinter as tk\n",
    "\n",
    "def click_button(value):\n",
    "    current = str(entry.get())\n",
    "    entry.delete(0, tk.END)\n",
    "    entry.insert(0, current + value)\n",
    "\n",
    "def clear_entry():\n",
    "    entry.delete(0, tk.END)\n",
    "\n",
    "def calculate():\n",
    "    try:\n",
    "        result = eval(entry.get())\n",
    "        entry.delete(0, tk.END)\n",
    "        entry.insert(0, str(result))\n",
    "    except Exception as e:\n",
    "        entry.delete(0, tk.END)\n",
    "        entry.insert(0, \"Error\")\n",
    "\n",
    "# Create the main window\n",
    "root = tk.Tk()\n",
    "root.title(\"Simple Calculator\")\n",
    "\n",
    "# Create an entry field\n",
    "entry = tk.Entry(root, width=16, font=('Arial', 20), borderwidth=2, relief=\"solid\")\n",
    "entry.grid(row=0, column=0, columnspan=4, padx=10, pady=10)\n",
    "\n",
    "# Create buttons\n",
    "buttons = [\n",
    "    '7', '8', '9', '/',\n",
    "    '4', '5', '6', '*',\n",
    "    '1', '2', '3', '-',\n",
    "    '0', 'C', '=', '+'\n",
    "]\n",
    "\n",
    "row_val = 1\n",
    "col_val = 0\n",
    "\n",
    "for button in buttons:\n",
    "    tk.Button(root, text=button, padx=20, pady=20, font=('Arial', 16),\n",
    "              command=lambda button=button: click_button(button)).grid(row=row_val, column=col_val, padx=5, pady=5)\n",
    "    col_val += 1\n",
    "    if col_val > 3:\n",
    "        col_val = 0\n",
    "        row_val += 1\n",
    "\n",
    "# Additional buttons\n",
    "tk.Button(root, text='Clear', padx=20, pady=20, font=('Arial', 16), command=clear_entry).grid(row=5, column=0, padx=5, pady=5)\n",
    "tk.Button(root, text='=', padx=20, pady=20, font=('Arial', 16), command=calculate).grid(row=5, column=1, columnspan=2, padx=5, pady=5)\n",
    "\n",
    "# Start the GUI event loop\n",
    "root.mainloop()"
   ]
  },
  {
   "cell_type": "code",
   "execution_count": null,
   "id": "a12a5c34",
   "metadata": {},
   "outputs": [],
   "source": []
  }
 ],
 "metadata": {
  "kernelspec": {
   "display_name": "Python 3",
   "language": "python",
   "name": "python3"
  },
  "language_info": {
   "codemirror_mode": {
    "name": "ipython",
    "version": 3
   },
   "file_extension": ".py",
   "mimetype": "text/x-python",
   "name": "python",
   "nbconvert_exporter": "python",
   "pygments_lexer": "ipython3",
   "version": "3.8.8"
  }
 },
 "nbformat": 4,
 "nbformat_minor": 5
}
