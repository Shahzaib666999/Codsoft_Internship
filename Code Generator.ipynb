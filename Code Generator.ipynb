{
 "cells": [
  {
   "cell_type": "code",
   "execution_count": 5,
   "id": "1fbed980",
   "metadata": {},
   "outputs": [],
   "source": [
    "import tkinter as tk\n",
    "import random\n",
    "\n",
    "def generate_unique_code():\n",
    "    code = ''.join(random.choice('0123456789ABCDEF') for _ in range(8))\n",
    "    return code\n",
    "\n",
    "def display_code():\n",
    "    code = generate_unique_code()\n",
    "    label.config(text=f\"Generated Code: {code}\")\n",
    "\n",
    "# Create the main window\n",
    "root = tk.Tk()\n",
    "root.title(\"Unique Code Generator\")\n",
    "\n",
    "# Create a label to display the code\n",
    "label = tk.Label(root, font=('Arial', 20))\n",
    "label.pack(pady=20)\n",
    "\n",
    "# Create a button to generate and display the code\n",
    "generate_button = tk.Button(root, text=\"Generate Code\", command=display_code)\n",
    "generate_button.pack()\n",
    "\n",
    "# Start the GUI event loop\n",
    "root.mainloop()"
   ]
  },
  {
   "cell_type": "code",
   "execution_count": null,
   "id": "f6be8a5d",
   "metadata": {},
   "outputs": [],
   "source": []
  }
 ],
 "metadata": {
  "kernelspec": {
   "display_name": "Python 3",
   "language": "python",
   "name": "python3"
  },
  "language_info": {
   "codemirror_mode": {
    "name": "ipython",
    "version": 3
   },
   "file_extension": ".py",
   "mimetype": "text/x-python",
   "name": "python",
   "nbconvert_exporter": "python",
   "pygments_lexer": "ipython3",
   "version": "3.8.8"
  }
 },
 "nbformat": 4,
 "nbformat_minor": 5
}
