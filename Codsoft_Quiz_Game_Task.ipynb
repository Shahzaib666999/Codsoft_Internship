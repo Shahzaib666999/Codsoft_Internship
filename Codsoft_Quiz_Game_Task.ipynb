{
  "nbformat": 4,
  "nbformat_minor": 0,
  "metadata": {
    "colab": {
      "provenance": [],
      "authorship_tag": "ABX9TyOggbpEm/rAgdbPCWKyMZZS",
      "include_colab_link": true
    },
    "kernelspec": {
      "name": "python3",
      "display_name": "Python 3"
    },
    "language_info": {
      "name": "python"
    }
  },
  "cells": [
    {
      "cell_type": "markdown",
      "metadata": {
        "id": "view-in-github",
        "colab_type": "text"
      },
      "source": [
        "<a href=\"https://colab.research.google.com/github/Shahzaib666999/Codsoft_Internship/blob/main/Codsoft_Quiz_Game_Task.ipynb\" target=\"_parent\"><img src=\"https://colab.research.google.com/assets/colab-badge.svg\" alt=\"Open In Colab\"/></a>"
      ]
    },
    {
      "cell_type": "code",
      "execution_count": 1,
      "metadata": {
        "id": "vk3Nz5odIAUM",
        "colab": {
          "base_uri": "https://localhost:8080/"
        },
        "outputId": "240d3e12-ea95-4eb9-8658-55283b9bc4fd"
      },
      "outputs": [
        {
          "name": "stdout",
          "output_type": "stream",
          "text": [
            "Welcome to the Quiz Game!\n",
            "You will be asked multiple-choice or fill-in-the-blank questions on a specific topic.\n",
            "Let's get started!\n",
            "\n",
            "Question 1:\n",
            "What is 2 + 2?\n",
            "Your answer: 4\n",
            "Correct!\n",
            "\n",
            "\n",
            "Question 2:\n",
            "What is the capital of France?\n",
            "1. a. London\n",
            "2. b. Berlin\n",
            "3. c. Paris\n",
            "Your answer: c\n",
            "Correct!\n",
            "\n",
            "\n",
            "You answered 2 out of 2 questions correctly.\n",
            "Congratulations! You got a perfect score!\n",
            "Do you want to play again? (yes/no): yes\n",
            "Welcome to the Quiz Game!\n",
            "You will be asked multiple-choice or fill-in-the-blank questions on a specific topic.\n",
            "Let's get started!\n",
            "\n",
            "Question 1:\n",
            "What is 2 + 2?\n",
            "Your answer: 9\n",
            "Incorrect. The correct answer is: 4\n",
            "\n",
            "\n",
            "Question 2:\n",
            "What is the capital of France?\n",
            "1. a. London\n",
            "2. b. Berlin\n",
            "3. c. Paris\n",
            "Your answer: a\n",
            "Incorrect. The correct answer is: c\n",
            "\n",
            "\n",
            "You answered 2 out of 2 questions correctly.\n",
            "Congratulations! You got a perfect score!\n",
            "Do you want to play again? (yes/no): no\n"
          ]
        }
      ],
      "source": [
        "import random\n",
        "\n",
        "class Quiz:\n",
        "    def __init__(self, questions):\n",
        "        self.questions = questions\n",
        "        self.score = 0\n",
        "\n",
        "    def display_welcome_message(self):\n",
        "        print(\"Welcome to the Quiz Game!\")\n",
        "        print(\"You will be asked multiple-choice or fill-in-the-blank questions on a specific topic.\")\n",
        "        print(\"Let's get started!\\n\")\n",
        "\n",
        "    def present_quiz_questions(self):\n",
        "        random.shuffle(self.questions)\n",
        "        for index, (question, options, correct_answer) in enumerate(self.questions, start=1):\n",
        "            print(f\"Question {index}:\")\n",
        "            print(question)\n",
        "            if options:\n",
        "                for i, option in enumerate(options, start=1):\n",
        "                    print(f\"{i}. {option}\")\n",
        "            user_answer = input(\"Your answer: \")\n",
        "            self.evaluate_user_answer(user_answer, correct_answer)\n",
        "            print()\n",
        "\n",
        "    def evaluate_user_answer(self, user_answer, correct_answer):\n",
        "        if user_answer.lower() == correct_answer.lower():\n",
        "            print(\"Correct!\\n\")\n",
        "            self.score += 1\n",
        "        else:\n",
        "            print(f\"Incorrect. The correct answer is: {correct_answer}\\n\")\n",
        "\n",
        "    def display_final_results(self):\n",
        "        print(f\"You answered {self.score} out of {len(self.questions)} questions correctly.\")\n",
        "        if self.score == len(self.questions):\n",
        "            print(\"Congratulations! You got a perfect score!\")\n",
        "        elif self.score >= len(self.questions) // 2:\n",
        "            print(\"Well done! You did a good job.\")\n",
        "        else:\n",
        "            print(\"Keep practicing. You can do better!\")\n",
        "\n",
        "    def play_again(self):\n",
        "        play_again = input(\"Do you want to play again? (yes/no): \")\n",
        "        return play_again.lower() == 'yes'\n",
        "\n",
        "\n",
        "# Define your quiz questions with format: (question, options, correct_answer)\n",
        "questions = [\n",
        "    (\"What is the capital of France?\", ['a. London', 'b. Berlin', 'c. Paris'], 'c'),\n",
        "    (\"What is 2 + 2?\", [], '4'),\n",
        "    # Add more questions here\n",
        "]\n",
        "\n",
        "quiz = Quiz(questions)\n",
        "\n",
        "play = True\n",
        "while play:\n",
        "    quiz.display_welcome_message()\n",
        "    quiz.present_quiz_questions()\n",
        "    quiz.display_final_results()\n",
        "    play = quiz.play_again()"
      ]
    },
    {
      "cell_type": "code",
      "source": [],
      "metadata": {
        "id": "csC5a4scPrUi"
      },
      "execution_count": null,
      "outputs": []
    }
  ]
}